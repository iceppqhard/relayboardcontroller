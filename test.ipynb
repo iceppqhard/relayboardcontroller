{
 "cells": [
  {
   "cell_type": "code",
   "execution_count": 1,
   "metadata": {},
   "outputs": [],
   "source": [
    "from ctypes import *\n",
    "dll = cdll.LoadLibrary(\"./USBRelayControllerLib.dll\")"
   ]
  },
  {
   "cell_type": "markdown",
   "metadata": {},
   "source": [
    "### Establish the connection with the board"
   ]
  },
  {
   "cell_type": "code",
   "execution_count": 62,
   "metadata": {},
   "outputs": [
    {
     "name": "stdout",
     "output_type": "stream",
     "text": [
      "[None, 2000]\n"
     ]
    }
   ],
   "source": [
    "# Port nuber for the connected USB port\n",
    "usbHandle = [None, None]\n",
    "\n",
    "d_id = 1 # 0: 5-relay board, 1: 9-relay board\n",
    "hHandle = windll.kernel32.GetModuleHandleA(0)\n",
    "\n",
    "usbHandle[d_id] = dll.openUSBRelayController(hHandle, d_id)\n",
    "print(usbHandle)"
   ]
  },
  {
   "cell_type": "markdown",
   "metadata": {},
   "source": [
    "### Readback the status"
   ]
  },
  {
   "cell_type": "code",
   "execution_count": 32,
   "metadata": {},
   "outputs": [
    {
     "name": "stdout",
     "output_type": "stream",
     "text": [
      "b'\\x00\\x01\\x00\\x00\\x00\\x00\\x00\\x00\\x00'\n"
     ]
    }
   ],
   "source": [
    "num_channels = 9\n",
    "readback = bytes(num_channels)\n",
    "\n",
    "i_ret = dll.readRelayData(usbHandle[d_id], d_id, readback, num_channels);\n",
    "print(readback)"
   ]
  },
  {
   "cell_type": "markdown",
   "metadata": {},
   "source": [
    "### Turn on/off specific channel"
   ]
  },
  {
   "cell_type": "code",
   "execution_count": 45,
   "metadata": {},
   "outputs": [],
   "source": [
    "chn = 8 # 1-9\n",
    "turn = 0 #1   # 0: off / 1: on\n",
    "i_ret = dll.writeRelayOutput(usbHandle[d_id], d_id, chn, turn);"
   ]
  },
  {
   "cell_type": "code",
   "execution_count": 48,
   "metadata": {},
   "outputs": [],
   "source": [
    "# Turn on from chn 1 to 9, then off from chn 1 to 9\n",
    "import time\n",
    "for turn in [1, 0]:\n",
    "    for chn in range(1,10):\n",
    "        i_ret = dll.writeRelayOutput(usbHandle[d_id], d_id, chn, turn);\n",
    "        time.sleep(0.5)"
   ]
  },
  {
   "cell_type": "markdown",
   "metadata": {},
   "source": [
    "### Turn on/off all channels together"
   ]
  },
  {
   "cell_type": "code",
   "execution_count": 60,
   "metadata": {},
   "outputs": [],
   "source": [
    "# Turn on all \n",
    "i_ret = dll.writeRelayOutputAll(usbHandle[d_id], d_id, b'\\x01\\x01\\x01\\x01\\x01\\x01\\x01\\x01\\x01', 9)"
   ]
  },
  {
   "cell_type": "code",
   "execution_count": 63,
   "metadata": {},
   "outputs": [],
   "source": [
    "# Turn off all\n",
    "i_ret = dll.writeRelayOutputAll(usbHandle[d_id], d_id, b'\\x00\\x00\\x00\\x00\\x00\\x00\\x00\\x00\\x00', 9)"
   ]
  },
  {
   "cell_type": "markdown",
   "metadata": {},
   "source": [
    "### Close the connection"
   ]
  },
  {
   "cell_type": "code",
   "execution_count": 64,
   "metadata": {},
   "outputs": [
    {
     "name": "stdout",
     "output_type": "stream",
     "text": [
      "[None, 2000]\n",
      "[None, -1]\n"
     ]
    }
   ],
   "source": [
    "print(usbHandle)\n",
    "usbHandle[d_id] = dll.closeUSBRelayController(hHandle, d_id)\n",
    "print(usbHandle)"
   ]
  }
 ],
 "metadata": {
  "kernelspec": {
   "display_name": "Python 3.10.9 64-bit (microsoft store)",
   "language": "python",
   "name": "python3"
  },
  "language_info": {
   "codemirror_mode": {
    "name": "ipython",
    "version": 3
   },
   "file_extension": ".py",
   "mimetype": "text/x-python",
   "name": "python",
   "nbconvert_exporter": "python",
   "pygments_lexer": "ipython3",
   "version": "3.10.9"
  },
  "orig_nbformat": 4,
  "vscode": {
   "interpreter": {
    "hash": "3c178611b4a08a495f9727856931e6185e8579194041a15e58a6954671ba2fef"
   }
  }
 },
 "nbformat": 4,
 "nbformat_minor": 2
}
